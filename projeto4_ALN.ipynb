{
 "cells": [
  {
   "cell_type": "markdown",
   "id": "8048b0c9",
   "metadata": {},
   "source": [
    "### Projeto 4 - ÁLgebra Linear e Matrizes Aleatórias\n",
    "\n",
    "Integrantes:\n",
    "\n",
    "***********************"
   ]
  },
  {
   "cell_type": "markdown",
   "id": "99979101",
   "metadata": {},
   "source": [
    "**Questão 1. Matrizes Gaussianas.** Uma matriz gaussiana tem todas as entradas $A_{ij}$\n",
    "independentes e distribuídas segundo uma normal padrão, ou seja, $A \\sim N(0, 1)$.\n",
    "\n",
    "a) **Distribuição das normas.** Faça um histograma da norma-2 das colunas de uma matriz\n",
    "gaussiana $A$, $m \\times n$. Use vários valores de $m$, e comente o que você observa."
   ]
  },
  {
   "cell_type": "markdown",
   "id": "534b7b79",
   "metadata": {},
   "source": [
    "b) **Produtos internos.** Agora, fixe $m=100$ e faça o histograma do produto interno $\\langle A_i, A_j \\rangle$ entre as colunas de uma matriz gaussiana $A$. Exclua os casos $i=j$, e use $n=100, 200, 500$ e $1000$. O que acontece? Qual parece ser a distribuição para $n \\rightarrow \\infty$?"
   ]
  },
  {
   "cell_type": "markdown",
   "id": "117ceb41",
   "metadata": {},
   "source": [
    "c) **A distribuição do máximo.** Queremos ver quão “não ortogonal” é a matriz $A$. Para isto, vamos estudar o máximo de $\\frac{|\\langle A_i, A_j \\rangle|}{||A_i||.||A_j||}$ entre colunas distintas de uma matriz gaussiana $A$. Para isso, gere $K=1000$ matrizes gaussianas $A_k$ de ordem $100 \\times 300$, calcule o máximo indicado acima, e faça um histograma dos $K$ valores obtidos."
   ]
  },
  {
   "cell_type": "markdown",
   "id": "4bb22865",
   "metadata": {},
   "source": [
    "d) **Complexidade computacional.** Qual a complexidade de calcular o máximo acima? Qual valor de $K$ você acha que seria bom para ter uma boa estimativa do máximo esperado?"
   ]
  },
  {
   "cell_type": "markdown",
   "id": "4468b907",
   "metadata": {},
   "source": [
    "e) **A distribuição do máximo, parte 2.** Escolha valores de $K$ correspondentes e faça histogramas e comente os resultados para os seguintes pares de $(m,n)$: $(100,100), (100, 300), (200, 200), (200, 600), (500,500), (500, 1500), (1000, 1000), (1000, 3000)$"
   ]
  }
 ],
 "metadata": {
  "language_info": {
   "name": "python"
  }
 },
 "nbformat": 4,
 "nbformat_minor": 5
}
